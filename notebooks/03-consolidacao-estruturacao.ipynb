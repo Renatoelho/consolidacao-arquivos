{
 "cells": [
  {
   "cell_type": "markdown",
   "id": "d0fbbd58-201e-4bb5-86f9-89dcc200e6e5",
   "metadata": {},
   "source": [
    "# Consolidação de Arquivos - Estruturação"
   ]
  },
  {
   "cell_type": "markdown",
   "id": "2903d42b-617a-48b0-9af7-1336d5f3eb9f",
   "metadata": {},
   "source": [
    "### Criação do modelo com todos os atributos possíveis"
   ]
  },
  {
   "cell_type": "code",
   "execution_count": 1,
   "id": "1d261ef6-1ee0-42d5-877e-ab7496dbdb51",
   "metadata": {},
   "outputs": [],
   "source": [
    "import duckdb\n",
    "import pandas as pd"
   ]
  },
  {
   "cell_type": "code",
   "execution_count": 2,
   "id": "17edf391-a05e-4fb1-b6c2-d06889018a73",
   "metadata": {},
   "outputs": [],
   "source": [
    "df_base_atributos = pd.read_csv(\n",
    "    \"../resultados/detalhes/consolidacao_detalhes.csv\",\n",
    "    sep=\";\",\n",
    "    dtype=\"str\"\n",
    ")"
   ]
  },
  {
   "cell_type": "code",
   "execution_count": null,
   "id": "423ae639-cbc0-49f9-aeae-2eb11fe30780",
   "metadata": {},
   "outputs": [],
   "source": [
    "df_base_atributos.head(10)"
   ]
  },
  {
   "cell_type": "code",
   "execution_count": 4,
   "id": "1ad91e65-c73f-498e-8d66-b36e0cb0eac5",
   "metadata": {},
   "outputs": [],
   "source": [
    "query = \"\"\"\n",
    "SELECT\n",
    "    coluna,\n",
    "    amostra\n",
    "FROM (\n",
    "    SELECT \n",
    "            ROW_NUMBER() OVER (PARTITION BY coluna ORDER BY coluna, amostra) AS ID,\n",
    "            coluna,\n",
    "            split_part(amostra, ';', 1) amostra\n",
    "    FROM df_base_atributos\n",
    "    WHERE coluna IS NOT NULL\n",
    "    ORDER BY coluna\n",
    "    ) T1\n",
    "WHERE ID = 1;\n",
    "\"\"\""
   ]
  },
  {
   "cell_type": "code",
   "execution_count": 5,
   "id": "19cb2187-ad1f-4fcf-bdba-b1a9dec1972c",
   "metadata": {},
   "outputs": [],
   "source": [
    "with duckdb.connect(database=\":memory:\", read_only=False) as conexao:\n",
    "    df_modelo_colunas = conexao.sql(query).df()"
   ]
  },
  {
   "cell_type": "code",
   "execution_count": null,
   "id": "0bc5dd01-ebe7-412b-b7c2-a1b8a731ffe9",
   "metadata": {},
   "outputs": [],
   "source": [
    "df_modelo_colunas"
   ]
  },
  {
   "cell_type": "code",
   "execution_count": 7,
   "id": "1033c161-537e-4824-95e9-c127e8f1a86a",
   "metadata": {},
   "outputs": [],
   "source": [
    "df_modelo_colunas = df_modelo_colunas.pivot(columns=\"coluna\", values=\"amostra\")"
   ]
  },
  {
   "cell_type": "code",
   "execution_count": null,
   "id": "717aab8a-ab03-4cd0-a3e0-61d3c135b8bf",
   "metadata": {},
   "outputs": [],
   "source": [
    "df_modelo_colunas\n",
    "#df_modelo_colunas.ffill()\n",
    "#df_modelo_colunas.ffill().bfill().iloc[:1]"
   ]
  },
  {
   "cell_type": "code",
   "execution_count": 9,
   "id": "542d760c-2633-4028-abb3-9475eea69904",
   "metadata": {},
   "outputs": [],
   "source": [
    "df_modelo_colunas = df_modelo_colunas.ffill().bfill().iloc[:1]"
   ]
  },
  {
   "cell_type": "code",
   "execution_count": 11,
   "id": "c34d1ac4-5141-4ebb-a653-0e33423ac077",
   "metadata": {},
   "outputs": [],
   "source": [
    "(\n",
    "    df_modelo_colunas.to_json(\n",
    "        \"../resultados/modelos/layout_modelo.json\",\n",
    "        orient=\"records\",\n",
    "        force_ascii=False\n",
    "    )\n",
    ")"
   ]
  },
  {
   "cell_type": "markdown",
   "id": "52aa4142-5d76-4a29-b56c-5cbbb11b32f4",
   "metadata": {},
   "source": [
    "### Criando o modelo de dados geral"
   ]
  },
  {
   "cell_type": "markdown",
   "id": "4a0d6673-1528-4b9b-ac39-5fd3c1dcb55f",
   "metadata": {},
   "source": [
    "+ Criando o JsonSchema do modelo"
   ]
  },
  {
   "cell_type": "code",
   "execution_count": 12,
   "id": "77f0b526-c311-430a-ac77-bc84ac928b6e",
   "metadata": {},
   "outputs": [],
   "source": [
    "import json\n",
    "\n",
    "\n",
    "schema = {\n",
    "    \"$schema\": \"http://json-schema.org/draft-07/schema#\",\n",
    "    \"title\": \"TodasColunas\",\n",
    "    \"type\": \"object\",\n",
    "    \"properties\": {}\n",
    "}\n",
    "\n",
    "with open(\"../resultados/modelos/layout_modelo.json\") as arquivo:\n",
    "    atributos = json.load(arquivo)\n",
    "    \n",
    "for chave in atributos[0].keys():\n",
    "    schema[\"properties\"][chave] = {\"type\": \"string\"}\n",
    "\n",
    "json_schema = json.dumps(schema, indent=2)\n",
    "\n",
    "with open(\"../resultados/modelos/jsonshema_modelo.json\", \"w\") as arquivo:\n",
    "    json.dump(schema, arquivo, indent=2)"
   ]
  },
  {
   "cell_type": "markdown",
   "id": "b77376ba-97a3-4d5b-bbf5-8f6ce22e14ce",
   "metadata": {},
   "source": [
    "+ Criando a Classe Python do modelo"
   ]
  },
  {
   "cell_type": "code",
   "execution_count": 14,
   "id": "f7748ea7-1eb4-41e9-bb14-31c071ea2000",
   "metadata": {},
   "outputs": [],
   "source": [
    "! mkdir -p ./modelo && \\\n",
    "    datamodel-codegen  \\\n",
    "    --input ../resultados/modelos/jsonshema_modelo.json \\\n",
    "    --input-file-type jsonschema \\\n",
    "    --output ./modelo/modelo.py"
   ]
  },
  {
   "cell_type": "markdown",
   "id": "ae49f850-a0b1-48e8-a732-2e7556c3ac9a",
   "metadata": {},
   "source": [
    "### Conversão de todos os arquivos em JSONs válidos."
   ]
  },
  {
   "cell_type": "code",
   "execution_count": 15,
   "id": "4a4f61a2-7e59-437d-96f6-f280e91ece87",
   "metadata": {},
   "outputs": [],
   "source": [
    "import os\n",
    "from pathlib import Path\n",
    "from secrets import token_hex\n",
    "from datetime import datetime\n",
    "\n",
    "import pandas as pd\n",
    "import duckdb\n",
    "\n",
    "\n",
    "def gera_arquivo_json(arquivo: str, aba: str, encoding: str =\"latin1\") -> bool:\n",
    "    try:\n",
    "        if arquivo.endswith(\".xlsx\") or arquivo.endswith(\".xls\"):\n",
    "            df = pd.read_excel(arquivo, engine=\"openpyxl\", sheet_name=aba, dtype=\"str\")\n",
    "        elif arquivo.endswith(\".csv\") or arquivo.endswith(\".txt\"):\n",
    "            df = pd.read_csv(arquivo, encoding=encoding, delimiter=\";\", dtype=\"str\")\n",
    "        elif arquivo.endswith(\".json\"):\n",
    "            df = pd.read_json(arquivo)\n",
    "        else:\n",
    "            raise ValueError(\"Formato de arquivo não suportado\")\n",
    "\n",
    "        df[\"caminho_arquivo\"] = str(Path(os.path.relpath(arquivo)).parent)\n",
    "        df[\"nome_arquivo\"] = arquivo.split(\"/\")[-1]\n",
    "        df[\"aba_arquivo\"] = aba\n",
    "        df[\"datahora_processamento\"] = datetime.now().strftime(\"%Y-%m-%d %H:%M:%S\")\n",
    "        df = df.astype(\"str\")\n",
    "\n",
    "        caminho_arquivo_json = (\"../resultados/tmp/jsons\")\n",
    "\n",
    "        if not os.path.exists(caminho_arquivo_json):\n",
    "            Path(caminho_arquivo_json).mkdir(parents=True, exist_ok=True)\n",
    "\n",
    "        arquivo_json = f\"{arquivo.split('/')[-1].split('.')[0]}-{token_hex(16)}.json\"\n",
    "        df.to_json(f\"{caminho_arquivo_json}/{arquivo_json}\", orient=\"records\", force_ascii=False)  \n",
    "        return True\n",
    "\n",
    "    except Exception as erro:\n",
    "        raise ValueError(f\"Erro na formatação final do arquivo {arquivo}: {erro}\")\n"
   ]
  },
  {
   "cell_type": "code",
   "execution_count": 16,
   "id": "bcbbbd7f-947a-4203-9f9f-1f188be6528e",
   "metadata": {},
   "outputs": [],
   "source": [
    "detalhes_arquivos = pd.read_csv(\n",
    "    \"../resultados/detalhes/consolidacao_detalhes.csv\",\n",
    "    sep=\";\",\n",
    "    dtype=\"str\"\n",
    ")"
   ]
  },
  {
   "cell_type": "code",
   "execution_count": 17,
   "id": "7cc1d2fd-13f7-444f-acdc-228e5195ca8c",
   "metadata": {},
   "outputs": [],
   "source": [
    "detalhes_arquivos = detalhes_arquivos.fillna(\"\")"
   ]
  },
  {
   "cell_type": "code",
   "execution_count": null,
   "id": "78f3cd62-083c-4f26-b086-f922e2edb951",
   "metadata": {},
   "outputs": [],
   "source": [
    "detalhes_arquivos.head(10)"
   ]
  },
  {
   "cell_type": "code",
   "execution_count": 19,
   "id": "795864a9-9802-4c7b-9ce2-ea8892c159a7",
   "metadata": {},
   "outputs": [],
   "source": [
    "query = \"\"\"\n",
    "SELECT DISTINCT caminho, arquivo, aba\n",
    "FROM detalhes_arquivos\n",
    "WHERE status = 'OK';\n",
    "\"\"\""
   ]
  },
  {
   "cell_type": "code",
   "execution_count": 20,
   "id": "ba1f0830-9d32-4eeb-814d-34a8b8acf0d9",
   "metadata": {},
   "outputs": [],
   "source": [
    "with duckdb.connect(database=\":memory:\", read_only=False) as conexao:\n",
    "    arquivos_processamento = conexao.sql(query).fetchall()"
   ]
  },
  {
   "cell_type": "code",
   "execution_count": null,
   "id": "f0b716c1-bada-4df1-9f5c-89a771ef23aa",
   "metadata": {},
   "outputs": [],
   "source": [
    "arquivos_processamento"
   ]
  },
  {
   "cell_type": "code",
   "execution_count": null,
   "id": "4d930a6b-c9f7-411f-a584-d429001c60f7",
   "metadata": {},
   "outputs": [],
   "source": [
    "for item in arquivos_processamento:\n",
    "    arquivo = f\"{item[0]}/{item[1]}\"\n",
    "    aba = item[2]\n",
    "    gera_arquivo_json(arquivo, aba)\n",
    "    print(f\"Arquivo: {arquivo} convertido com Sucesso!\")"
   ]
  },
  {
   "cell_type": "markdown",
   "id": "72e621a2-5f4d-45b0-958f-ba6426c3cec9",
   "metadata": {},
   "source": [
    "### Consolidação de todos arquivos JSONs"
   ]
  },
  {
   "cell_type": "code",
   "execution_count": 23,
   "id": "4c666526-34f4-4566-87e4-fd4c02015bcd",
   "metadata": {},
   "outputs": [],
   "source": [
    "!export PYTHONPATH=$(realpath $(pwd)/..)"
   ]
  },
  {
   "cell_type": "code",
   "execution_count": 24,
   "id": "93200250-3399-43ab-b365-a71b0c38639d",
   "metadata": {},
   "outputs": [],
   "source": [
    "from modelo.modelo import TodasColunas"
   ]
  },
  {
   "cell_type": "code",
   "execution_count": 26,
   "id": "6047cd20-a997-4da4-a805-c51f3d7c5641",
   "metadata": {},
   "outputs": [],
   "source": [
    "def lista_arquivos(diretorio: str):\n",
    "    try:\n",
    "        lista_arquivos = []\n",
    "\n",
    "        for root, _dir, arquivos in os.walk(diretorio):\n",
    "            for arquivo in arquivos:\n",
    "                if not arquivo.endswith(\".gitkeep\"):\n",
    "                    lista_arquivos.append(f\"{root}/{arquivo}\")\n",
    "\n",
    "        if len(lista_arquivos) == 0:\n",
    "            raise TypeError()\n",
    "\n",
    "        return lista_arquivos\n",
    "\n",
    "    except Exception as _:\n",
    "        return False"
   ]
  },
  {
   "cell_type": "code",
   "execution_count": 27,
   "id": "de71e51e-9446-40ad-9605-c330d18af3fb",
   "metadata": {},
   "outputs": [],
   "source": [
    "def consolidacao(arquivos_json: list):\n",
    "    try:\n",
    "        consolicacao_tmp = []\n",
    "\n",
    "        def _carrega_json(arquivo_json: str):\n",
    "            with open(arquivo_json, \"r+\", encoding=\"utf-8\") as arquivo:\n",
    "                return json.load(arquivo)\n",
    "\n",
    "        for arquivo_json in arquivos_json:\n",
    "            dados_json = _carrega_json(arquivo_json)\n",
    "\n",
    "            for registro in dados_json:\n",
    "                dados_consolidados = TodasColunas(**registro).dict()\n",
    "                consolicacao_tmp.append(dados_consolidados)\n",
    "\n",
    "        df_consolicacao_tmp = pd.DataFrame(consolicacao_tmp)\n",
    "        caminho = \"../resultados/consolidacao\"\n",
    "        arquivo = \"consolidacao_estruturacao.csv\"\n",
    "        \n",
    "        if not os.path.exists(caminho):\n",
    "            Path(caminho).mkdir(parents=True, exist_ok=True)\n",
    "\n",
    "        df_consolicacao_tmp.to_csv(\n",
    "            f\"{caminho}/{arquivo}\",\n",
    "            sep=\";\",\n",
    "            index=False\n",
    "        )\n",
    "    except Exception as erro:\n",
    "        print(f\"Erro ao consolidar os arquivos JSONs: {erro}\")"
   ]
  },
  {
   "cell_type": "code",
   "execution_count": 28,
   "id": "89cdf456-af5b-42a0-99b3-6cd4328323ff",
   "metadata": {},
   "outputs": [],
   "source": [
    "arquivos_json = lista_arquivos(\"../resultados/tmp\")"
   ]
  },
  {
   "cell_type": "code",
   "execution_count": null,
   "id": "3c631c6c-ba74-4ad6-b188-c81feb0d0727",
   "metadata": {},
   "outputs": [],
   "source": [
    "arquivos_json"
   ]
  },
  {
   "cell_type": "code",
   "execution_count": 31,
   "id": "ee7c8035-cc21-43fc-a277-d977eb5ae547",
   "metadata": {},
   "outputs": [],
   "source": [
    "consolidacao(arquivos_json)"
   ]
  },
  {
   "cell_type": "code",
   "execution_count": null,
   "id": "81491972-4bd4-4a89-b448-d547f951387c",
   "metadata": {},
   "outputs": [],
   "source": []
  }
 ],
 "metadata": {
  "kernelspec": {
   "display_name": "Python 3 (ipykernel)",
   "language": "python",
   "name": "python3"
  },
  "language_info": {
   "codemirror_mode": {
    "name": "ipython",
    "version": 3
   },
   "file_extension": ".py",
   "mimetype": "text/x-python",
   "name": "python",
   "nbconvert_exporter": "python",
   "pygments_lexer": "ipython3",
   "version": "3.8.10"
  }
 },
 "nbformat": 4,
 "nbformat_minor": 5
}
