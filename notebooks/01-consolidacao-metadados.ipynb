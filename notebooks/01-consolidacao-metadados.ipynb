{
 "cells": [
  {
   "attachments": {},
   "cell_type": "markdown",
   "id": "8bd73814-e312-4b41-826f-80ff1687aaff",
   "metadata": {},
   "source": [
    "# Consolidação de Arquivos - Metadados\n",
    "\n"
   ]
  },
  {
   "cell_type": "code",
   "execution_count": 8,
   "id": "1033c161-537e-4824-95e9-c127e8f1a86a",
   "metadata": {},
   "outputs": [],
   "source": [
    "import os\n",
    "import re\n",
    "import time\n",
    "\n",
    "import pandas as pd"
   ]
  },
  {
   "cell_type": "code",
   "execution_count": 9,
   "id": "542d760c-2633-4028-abb3-9475eea69904",
   "metadata": {},
   "outputs": [],
   "source": [
    "def _obter_metadados_arquivos(caminho_arquivo: str) -> dict:\n",
    "    metadados = os.stat(caminho_arquivo)\n",
    "    return {\n",
    "        \"modo\": metadados.st_mode,\n",
    "        \"inode\": metadados.st_ino,\n",
    "        \"dispositivo\": metadados.st_dev,\n",
    "        \"links\": metadados.st_nlink,\n",
    "        \"uid\": metadados.st_uid,\n",
    "        \"gid\": metadados.st_gid,\n",
    "        \"tamanho\": metadados.st_size,\n",
    "        \"ultimo_acesso\": time.strftime(\"%d/%m/%Y %H:%M:%S\", time.localtime(metadados.st_atime)),\n",
    "        \"ultima_modificacao\": time.strftime(\"%d/%m/%Y %H:%M:%S\", time.localtime(metadados.st_mtime)),\n",
    "        \"criacao\": time.strftime(\"%d/%m/%Y %H:%M:%S\", time.localtime(metadados.st_ctime))\n",
    "    }"
   ]
  },
  {
   "cell_type": "code",
   "execution_count": 10,
   "id": "7d44f3ac-e0e3-4774-ab88-79b66ba9b38d",
   "metadata": {},
   "outputs": [],
   "source": [
    "def metadados_arquivos(diretorio: str) -> dict:\n",
    "    metadados = []\n",
    "    for root, _dirs, files in os.walk(diretorio):\n",
    "        for file in files:\n",
    "            metadados_arq = _obter_metadados_arquivos(os.path.join(root, file))\n",
    "            informacoes_arq = (\n",
    "                {   \"caminho\": root,\n",
    "                    \"arquivo\": file,\n",
    "                    \"extensao\": re.sub(\"\\.+\", \".\", file.split(\".\")[-1].lower())\n",
    "                }\n",
    "            )\n",
    "            informacoes_arq.update(metadados_arq)\n",
    "            metadados.append(informacoes_arq)\n",
    "    return metadados"
   ]
  },
  {
   "cell_type": "code",
   "execution_count": 11,
   "id": "3d046fce-ac28-421e-a30d-b60edfc73505",
   "metadata": {},
   "outputs": [],
   "source": [
    "caminho_arquivos = \"../arquivos\""
   ]
  },
  {
   "cell_type": "code",
   "execution_count": 12,
   "id": "79b1fb70-a93b-412d-b548-6364b89cf21a",
   "metadata": {},
   "outputs": [],
   "source": [
    "df_metadados = pd.DataFrame(metadados_arquivos(caminho_arquivos))"
   ]
  },
  {
   "cell_type": "code",
   "execution_count": null,
   "id": "ee280b5f-be3a-42f2-a908-1d84502c031b",
   "metadata": {},
   "outputs": [],
   "source": [
    "df_metadados"
   ]
  },
  {
   "cell_type": "code",
   "execution_count": 7,
   "id": "31dec4e5-fc4b-42ec-ae4a-3c20db128141",
   "metadata": {},
   "outputs": [],
   "source": [
    "(\n",
    "    df_metadados.sort_values(by=[\"extensao\",\"arquivo\",\"caminho\"])\n",
    "    .to_csv(\"../resultados/metadados/consolidacao_metadados.csv\", index=False, sep=\";\")\n",
    ")"
   ]
  },
  {
   "cell_type": "code",
   "execution_count": null,
   "id": "3f89c76a-3372-44b2-8ea6-174674cc07e9",
   "metadata": {},
   "outputs": [],
   "source": []
  }
 ],
 "metadata": {
  "kernelspec": {
   "display_name": "Python 3 (ipykernel)",
   "language": "python",
   "name": "python3"
  },
  "language_info": {
   "codemirror_mode": {
    "name": "ipython",
    "version": 3
   },
   "file_extension": ".py",
   "mimetype": "text/x-python",
   "name": "python",
   "nbconvert_exporter": "python",
   "pygments_lexer": "ipython3",
   "version": "3.8.10"
  }
 },
 "nbformat": 4,
 "nbformat_minor": 5
}
