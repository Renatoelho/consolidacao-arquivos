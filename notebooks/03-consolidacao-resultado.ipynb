{
 "cells": [
  {
   "cell_type": "markdown",
   "id": "d0fbbd58-201e-4bb5-86f9-89dcc200e6e5",
   "metadata": {},
   "source": [
    "# Consolidação de Arquivos - Múltipos Layouts e Extensões (OBT)"
   ]
  },
  {
   "cell_type": "code",
   "execution_count": null,
   "id": "1c79caf9-deb9-4330-8ba7-50b6696a4991",
   "metadata": {},
   "outputs": [],
   "source": []
  },
  {
   "cell_type": "code",
   "execution_count": null,
   "id": "1033c161-537e-4824-95e9-c127e8f1a86a",
   "metadata": {},
   "outputs": [],
   "source": []
  },
  {
   "cell_type": "code",
   "execution_count": null,
   "id": "542d760c-2633-4028-abb3-9475eea69904",
   "metadata": {},
   "outputs": [],
   "source": []
  }
 ],
 "metadata": {
  "kernelspec": {
   "display_name": "Python 3 (ipykernel)",
   "language": "python",
   "name": "python3"
  },
  "language_info": {
   "codemirror_mode": {
    "name": "ipython",
    "version": 3
   },
   "file_extension": ".py",
   "mimetype": "text/x-python",
   "name": "python",
   "nbconvert_exporter": "python",
   "pygments_lexer": "ipython3",
   "version": "3.8.10"
  }
 },
 "nbformat": 4,
 "nbformat_minor": 5
}
