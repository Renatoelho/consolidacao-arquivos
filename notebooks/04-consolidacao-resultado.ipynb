{
 "cells": [
  {
   "cell_type": "markdown",
   "id": "241fb7a0-9cb2-4aef-9409-4b1ec143696c",
   "metadata": {},
   "source": [
    "# Consolidação de Arquivos - Etapa Final (Resultado)"
   ]
  },
  {
   "cell_type": "code",
   "execution_count": 1,
   "id": "33ad1d4e-97d9-41b3-81a7-ada9055d82fe",
   "metadata": {},
   "outputs": [],
   "source": [
    "import duckdb\n",
    "import pandas as pd\n",
    "\n",
    "from datetime import datetime"
   ]
  },
  {
   "cell_type": "code",
   "execution_count": 2,
   "id": "586f76d5-4a33-4cb9-8006-2305571fe3fe",
   "metadata": {},
   "outputs": [],
   "source": [
    "df_consolidacao_estruturacao = pd.read_csv(\n",
    "    \"../resultados/consolidacao/consolidacao_estruturacao.csv\",\n",
    "    sep=\";\",\n",
    "    dtype=\"str\"\n",
    ")"
   ]
  },
  {
   "cell_type": "code",
   "execution_count": null,
   "id": "59334f1b-0e85-4dfa-bbe8-991b417e9303",
   "metadata": {},
   "outputs": [],
   "source": [
    "df_consolidacao_estruturacao.head(10)"
   ]
  },
  {
   "cell_type": "code",
   "execution_count": 3,
   "id": "632e36f0-764a-494d-9f22-b7e6674437f0",
   "metadata": {},
   "outputs": [],
   "source": [
    "#query = \"\"\"\n",
    "#SELECT * FROM df_consolidacao_estruturacao\n",
    "#\"\"\" "
   ]
  },
  {
   "cell_type": "code",
   "execution_count": 4,
   "id": "b183f3d7-5391-42d6-9a0f-c41b04030bda",
   "metadata": {},
   "outputs": [],
   "source": [
    "query = \"\"\"\n",
    "SELECT\n",
    "        ID,\n",
    "        MAX(CPF) CPF,\n",
    "        MAX(Nome) Nome,\n",
    "        MAX(Idade) Idade,\n",
    "        MAX(Email) Email,\n",
    "        MAX(Telefone) Telefone,\n",
    "        MAX(Endereco) Endereco,\n",
    "        MAX(Cargo) Cargo,\n",
    "        MAX(Departamento) Departamento,\n",
    "        MAX(Empresa) Empresa,\n",
    "        MAX(Estado) Estado,\n",
    "        MAX(Projeto) Projeto,\n",
    "        MAX(Salario) Salario,\n",
    "        MAX(Status) Status\n",
    "FROM df_consolidacao_estruturacao\n",
    "GROUP BY ID\n",
    "ORDER BY ID\n",
    "\"\"\" "
   ]
  },
  {
   "cell_type": "code",
   "execution_count": 5,
   "id": "bfd43044-e30a-4d9c-b11a-2511a9959b74",
   "metadata": {},
   "outputs": [],
   "source": [
    "with duckdb.connect(database=\":memory:\", read_only=False) as conexao:\n",
    "    df_consolidacao_final = conexao.sql(query).df()"
   ]
  },
  {
   "cell_type": "code",
   "execution_count": null,
   "id": "ff6ae9bc-4cc1-4f90-b82c-821baee4f042",
   "metadata": {},
   "outputs": [],
   "source": [
    "df_consolidacao_final"
   ]
  },
  {
   "cell_type": "code",
   "execution_count": 6,
   "id": "4a9426e3-f332-40f6-bc48-dc29fbc3be0e",
   "metadata": {},
   "outputs": [],
   "source": [
    "(\n",
    "    df_consolidacao_final.to_csv(\"../resultados/consolidacao_final.csv\", index=False, sep=\";\")\n",
    ")"
   ]
  },
  {
   "cell_type": "code",
   "execution_count": null,
   "id": "487763de-5047-4b45-a4a3-09074d7068f0",
   "metadata": {},
   "outputs": [],
   "source": []
  }
 ],
 "metadata": {
  "kernelspec": {
   "display_name": "Python 3 (ipykernel)",
   "language": "python",
   "name": "python3"
  },
  "language_info": {
   "codemirror_mode": {
    "name": "ipython",
    "version": 3
   },
   "file_extension": ".py",
   "mimetype": "text/x-python",
   "name": "python",
   "nbconvert_exporter": "python",
   "pygments_lexer": "ipython3",
   "version": "3.8.10"
  }
 },
 "nbformat": 4,
 "nbformat_minor": 5
}
