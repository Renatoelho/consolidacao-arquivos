{
 "cells": [
  {
   "cell_type": "markdown",
   "id": "d0fbbd58-201e-4bb5-86f9-89dcc200e6e5",
   "metadata": {},
   "source": [
    "# Consolidação de Arquivos - Detalhes"
   ]
  },
  {
   "cell_type": "code",
   "execution_count": 1,
   "id": "1c79caf9-deb9-4330-8ba7-50b6696a4991",
   "metadata": {},
   "outputs": [],
   "source": [
    "# \"latin1\", \"iso-8859-1\", ou \"cp1252\",\n",
    "\n",
    "import re\n",
    "import os\n",
    "from pathlib import Path\n",
    "\n",
    "import duckdb\n",
    "import openpyxl\n",
    "import pandas as pd\n",
    "from pandas import DataFrame"
   ]
  },
  {
   "cell_type": "code",
   "execution_count": 2,
   "id": "426d358d-b112-469e-8f39-ff18336ba084",
   "metadata": {},
   "outputs": [],
   "source": [
    "def _importar_arquivo(arquivo: str, aba: str=None, encoding: str =\"latin1\") -> DataFrame:\n",
    "    try:\n",
    "        if arquivo.endswith(\".xlsx\") or arquivo.endswith(\".xls\"):\n",
    "            df = pd.read_excel(arquivo, engine=\"openpyxl\", sheet_name=aba, dtype=\"str\")\n",
    "        elif arquivo.endswith(\".csv\") or arquivo.endswith(\".txt\"):\n",
    "            df = pd.read_csv(arquivo, encoding=encoding, delimiter=\";\", dtype=\"str\")\n",
    "        elif arquivo.endswith(\".json\"):\n",
    "            df = pd.read_json(arquivo)\n",
    "        else:\n",
    "            raise ValueError(\"Formato de arquivo não suportado\")\n",
    "        return df\n",
    "    except Exception as erro:\n",
    "        raise ValueError(f\"Erro: {erro}\")"
   ]
  },
  {
   "cell_type": "code",
   "execution_count": 3,
   "id": "e9d6c1ed-0444-4db9-8970-a66da773874a",
   "metadata": {},
   "outputs": [],
   "source": [
    "def amostra_atributo(atributo: str, dataframe: DataFrame, num_amostras:int=2) -> str:\n",
    "    try:\n",
    "        query = f\"\"\"\n",
    "        SELECT {atributo}\n",
    "        FROM dataframe WHERE {atributo}\n",
    "        IS NOT NULL\n",
    "        LIMIT {num_amostras}\n",
    "        \"\"\"\n",
    "        resultado_query = (\n",
    "            [\n",
    "                str(item[0])\n",
    "                .replace(\",\", \"\")\n",
    "                .strip()\n",
    "                for item\n",
    "                in duckdb\n",
    "                .sql(query)\n",
    "                .fetchall()\n",
    "            ]\n",
    "        )\n",
    "        if len(resultado_query) == 0:\n",
    "            resultado_query = [\"SEM AMOSTRA\"]\n",
    "        return \";\".join(resultado_query)\n",
    "    except Exception as _:\n",
    "        return \"SEM AMOSTRA\" "
   ]
  },
  {
   "cell_type": "code",
   "execution_count": 4,
   "id": "72e093f8-d487-4869-a781-b1a13bbdce82",
   "metadata": {},
   "outputs": [],
   "source": [
    "def detalhes_arquivos(lista_arquivos: list) -> DataFrame:\n",
    "    try:\n",
    "        lista_temp = []\n",
    "        for item in lista_arquivos:\n",
    "            caminho = Path(os.path.relpath(item)).parent\n",
    "            arquivo = f\"{Path(os.path.abspath(item)).stem}{Path(os.path.abspath(item)).suffix}\" \n",
    "            try:\n",
    "                if item.endswith(\".xlsx\") or item.endswith(\".xls\"): \n",
    "                    abas_planilha = pd.ExcelFile(item).sheet_names\n",
    "\n",
    "                    for aba in abas_planilha:\n",
    "                        df = _importar_arquivo(item, aba)\n",
    "                        colunas = [coluna for coluna in df.columns.tolist()]\n",
    "                        quantidades = df.count().tolist()\n",
    "\n",
    "                        for coluna, quantidade in zip(colunas, quantidades):\n",
    "                            amostra = amostra_atributo(coluna, df)\n",
    "                            lista_temp.append(\n",
    "                                {   \n",
    "                                    \"caminho\": caminho,\n",
    "                                    \"arquivo\": arquivo,\n",
    "                                    \"coluna\": coluna.strip(),\n",
    "                                    \"amostra\": amostra,\n",
    "                                    \"quantidade\": quantidade,\n",
    "                                    \"aba\": aba,\n",
    "                                    \"observacoes\": \"\",\n",
    "                                    \"status\": \"OK\",\n",
    "                                    \"nova_coluna\": (\n",
    "                                        \"***Esse atributo pode renomear \"\n",
    "                                        \"as colunas na consolidação final.*** \"\n",
    "                                    )\n",
    "                                    }\n",
    "                            )\n",
    "                else:\n",
    "                    df = _importar_arquivo(item)\n",
    "                    colunas = [coluna for coluna in df.columns.tolist()]\n",
    "                    quantidades = df.count().tolist()\n",
    "                    for coluna, quantidade in zip(colunas, quantidades):\n",
    "                        amostra = amostra_atributo(coluna, df)\n",
    "                        lista_temp.append(\n",
    "                            {   \n",
    "                                \"caminho\": caminho,\n",
    "                                \"arquivo\": arquivo,\n",
    "                                \"coluna\": coluna.strip(),\n",
    "                                \"amostra\": amostra,\n",
    "                                \"quantidade\": quantidade,\n",
    "                                \"aba\": \"\",\n",
    "                                \"observacoes\": \"\",\n",
    "                                \"status\": \"OK\",\n",
    "                                \"nova_coluna\": (\n",
    "                                    \"***Esse atributo pode renomear \"\n",
    "                                    \"as colunas na consolidação final.*** \"\n",
    "                                )\n",
    "                                }\n",
    "                        )\n",
    "            except Exception as erro:\n",
    "                lista_temp.append(\n",
    "                    {\n",
    "                        \"caminho\": caminho,\n",
    "                        \"arquivo\": arquivo,\n",
    "                        \"coluna\": \"\",\n",
    "                        \"amostra\": \"\",\n",
    "                        \"quantidade\": \"\",\n",
    "                        \"aba\": \"\",                        \n",
    "                        \"observacoes\": f\"{erro}\",\n",
    "                        \"status\": \"ERRO\",\n",
    "                        \"nova_coluna\": \"\"\n",
    "                        }\n",
    "                )\n",
    "        return pd.DataFrame(lista_temp)\n",
    "    except Exception as erro:\n",
    "        raise ValueError(f\"Erro na geração dos detalhes. Erro: {erro}\")"
   ]
  },
  {
   "cell_type": "markdown",
   "id": "6927e444-fc68-4be2-a4e1-62c60efc3d38",
   "metadata": {},
   "source": [
    "### Importando a Lista de arquivos a partir dos Metadados"
   ]
  },
  {
   "cell_type": "code",
   "execution_count": 5,
   "id": "40d89c02-6f63-401a-a093-f824722a71bc",
   "metadata": {},
   "outputs": [],
   "source": [
    "metadados_arquivos = pd.read_csv(\"../resultados/metadados/consolidacao_metadados.csv\", sep=\";\", dtype=\"str\")"
   ]
  },
  {
   "cell_type": "code",
   "execution_count": null,
   "id": "2d4d26a8-db8e-41a7-996d-f8083260cc18",
   "metadata": {},
   "outputs": [],
   "source": [
    "metadados_arquivos"
   ]
  },
  {
   "cell_type": "code",
   "execution_count": 7,
   "id": "69eb9d77-ad57-4fa5-b2b8-00f0e917d363",
   "metadata": {},
   "outputs": [],
   "source": [
    "lista_arquivos = (\n",
    "    [\n",
    "        f\"{caminho}/{arquivo}\"\n",
    "        for caminho, arquivo\n",
    "        in zip(metadados_arquivos[\"caminho\"], metadados_arquivos[\"arquivo\"])\n",
    "    ]\n",
    ")"
   ]
  },
  {
   "cell_type": "code",
   "execution_count": null,
   "id": "4bbbab5d-2298-49fa-865e-d751e686d8da",
   "metadata": {},
   "outputs": [],
   "source": [
    "lista_arquivos"
   ]
  },
  {
   "cell_type": "code",
   "execution_count": 9,
   "id": "1033c161-537e-4824-95e9-c127e8f1a86a",
   "metadata": {},
   "outputs": [],
   "source": [
    "df_detalhes_arquivos = detalhes_arquivos(lista_arquivos)"
   ]
  },
  {
   "cell_type": "code",
   "execution_count": null,
   "id": "542d760c-2633-4028-abb3-9475eea69904",
   "metadata": {},
   "outputs": [],
   "source": [
    "df_detalhes_arquivos.sort_values(by=[\"arquivo\",\"aba\",\"coluna\"])"
   ]
  },
  {
   "cell_type": "code",
   "execution_count": 11,
   "id": "457d9647-da84-4637-a5d5-a004ce439179",
   "metadata": {},
   "outputs": [],
   "source": [
    "(\n",
    "    df_detalhes_arquivos.sort_values(by=[\"caminho\",\"arquivo\",\"aba\",\"coluna\"])\n",
    "    .to_csv(\"../resultados/detalhes/consolidacao_detalhes.csv\", index=False, sep=\";\")\n",
    ")"
   ]
  },
  {
   "cell_type": "code",
   "execution_count": null,
   "id": "0180e9e6-bb60-46f5-b223-18297bddff63",
   "metadata": {},
   "outputs": [],
   "source": []
  }
 ],
 "metadata": {
  "kernelspec": {
   "display_name": "Python 3 (ipykernel)",
   "language": "python",
   "name": "python3"
  },
  "language_info": {
   "codemirror_mode": {
    "name": "ipython",
    "version": 3
   },
   "file_extension": ".py",
   "mimetype": "text/x-python",
   "name": "python",
   "nbconvert_exporter": "python",
   "pygments_lexer": "ipython3",
   "version": "3.8.10"
  }
 },
 "nbformat": 4,
 "nbformat_minor": 5
}
